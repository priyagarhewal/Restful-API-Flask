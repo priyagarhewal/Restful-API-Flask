{
  "nbformat": 4,
  "nbformat_minor": 0,
  "metadata": {
    "colab": {
      "provenance": []
    },
    "kernelspec": {
      "name": "python3",
      "display_name": "Python 3"
    },
    "language_info": {
      "name": "python"
    }
  },
  "cells": [
    {
      "cell_type": "markdown",
      "source": [
        "# Restful API & Flask question and answers"
      ],
      "metadata": {
        "id": "L1deS_fnnAwz"
      }
    },
    {
      "cell_type": "markdown",
      "source": [
        "1. What is a RESTful API?\n",
        "    - A RESTful API is an API that follows the principles of REST (Representational State Transfer). It uses standard HTTP methods (GET, POST, PUT, DELETE) to access and manipulate resources identified by URLs.\n",
        "\n",
        "2. Explain the concept of API specification.\n",
        "    - An API specification defines how APIs should behave, including available endpoints, request/response formats, authentication methods, and error codes. Examples: OpenAPI (Swagger), RAML.\n",
        "\n",
        "3. What is Flask, and why is it popular for building APIs?\n",
        "    - Flask is a lightweight Python web framework that is easy to use and flexible. It is popular for building APIs because it is minimalistic, has strong community support, and integrates easily with extensions like Flask-RESTful and Flask-SQLAlchemy.\n",
        "\n",
        "4. What is routing in Flask?\n",
        "    - Routing in Flask maps URL paths to Python functions. These functions are called view functions and handle the request for a given URL.\n",
        "\n",
        "5. How do you create a simple Flask application?"
      ],
      "metadata": {
        "id": "155Hcf1jnMaz"
      }
    },
    {
      "cell_type": "code",
      "source": [
        "from flask import Flask\n",
        "app = Flask(__name__)\n",
        "\n",
        "@app.route('/')\n",
        "def home():\n",
        "    return \"Hello, Flask!\"\n",
        "\n",
        "if __name__ == '__main__':\n",
        "    app.run(debug=True)\n"
      ],
      "metadata": {
        "id": "1c3lDfn9npit"
      },
      "execution_count": null,
      "outputs": []
    },
    {
      "cell_type": "markdown",
      "source": [
        "6. What are HTTP methods used in RESTful APIs?\n",
        "    - GET – Retrieve data\n",
        "\n",
        "    - POST – Create new data\n",
        "\n",
        "    - PUT – Update existing data\n",
        "\n",
        "    - DELETE – Remove data\n",
        "\n",
        "    - PATCH – Partially update data\n",
        "\n",
        "7. What is the purpose of the @app.route() decorator in Flask?\n",
        "    - It binds a URL to a function. When the URL is accessed, the function is executed.\n",
        "\n",
        "8. What is the difference between GET and POST HTTP methods?\n",
        "    - GET: Retrieves data from the server (no body).\n",
        "\n",
        "    - POST: Sends data to the server (with body) to create a resource.\n",
        "\n",
        "9. How do you handle errors in Flask APIs?\n",
        "    - Use @app.errorhandler() decorators to define custom error responses."
      ],
      "metadata": {
        "id": "vMIhoJD3oCmJ"
      }
    },
    {
      "cell_type": "code",
      "source": [
        "@app.errorhandler(404)\n",
        "def not_found(e):\n",
        "    return {\"error\": \"Not found\"}, 404\n"
      ],
      "metadata": {
        "id": "jpIwqkwUoXZJ"
      },
      "execution_count": 2,
      "outputs": []
    },
    {
      "cell_type": "markdown",
      "source": [
        "10. How do you connect Flask to a SQL database?\n",
        "    - Use Flask-SQLAlchemy:"
      ],
      "metadata": {
        "id": "rYUnMz7YoaI7"
      }
    },
    {
      "cell_type": "code",
      "source": [
        "from flask_sqlalchemy import SQLAlchemy\n",
        "app.config['SQLALCHEMY_DATABASE_URI'] = 'sqlite:///data.db'\n",
        "db = SQLAlchemy(app)\n"
      ],
      "metadata": {
        "id": "rAIp_ZPOoh7Q"
      },
      "execution_count": null,
      "outputs": []
    },
    {
      "cell_type": "markdown",
      "source": [
        "11. What is the role of Flask-SQLAlchemy?\n",
        "    - It is an ORM (Object Relational Mapper) extension that simplifies interaction with databases using Python classes and objects.\n",
        "\n",
        "12. What are Flask blueprints, and how are they useful?\n",
        "    - Blueprints allow modular organization of a Flask app by grouping routes and logic. Useful for large applications.\n",
        "\n",
        "13. What is the purpose of Flask's request object?\n",
        "    - It provides access to incoming request data like form values, query parameters, headers, and JSON payloads.\n",
        "\n",
        "14. How do you create a RESTful API endpoint using Flask?"
      ],
      "metadata": {
        "id": "Y7cH7iUpooSx"
      }
    },
    {
      "cell_type": "code",
      "source": [
        "@app.route('/api/user/<int:id>', methods=['GET'])\n",
        "def get_user(id):\n",
        "    return {\"user_id\": id}\n"
      ],
      "metadata": {
        "id": "ip84MLRhoyIU"
      },
      "execution_count": 4,
      "outputs": []
    },
    {
      "cell_type": "markdown",
      "source": [
        "15. What is the purpose of Flask's jsonify() function?\n",
        "    - It converts Python dictionaries to JSON responses and sets appropriate headers.\n",
        "\n",
        "16. Explain Flask's url_for() function.\n",
        "    - Generates dynamic URLs using the function name. Helps avoid hardcoding URLs."
      ],
      "metadata": {
        "id": "h87N_FtYo0W7"
      }
    },
    {
      "cell_type": "code",
      "source": [
        "url_for('home')  # returns '/'\n"
      ],
      "metadata": {
        "id": "zIOFcXLvpAAG"
      },
      "execution_count": null,
      "outputs": []
    },
    {
      "cell_type": "markdown",
      "source": [
        "17. How does Flask handle static files (CSS, JavaScript, etc.)?\n",
        "    - Place them in the static/ folder. Flask serves them automatically."
      ],
      "metadata": {
        "id": "qybvhidWpD11"
      }
    },
    {
      "cell_type": "code",
      "source": [
        "<link rel=\"stylesheet\" href=\"{{ url_for('static', filename='style.css') }}\">\n"
      ],
      "metadata": {
        "id": "GzRD6FubpLsU"
      },
      "execution_count": null,
      "outputs": []
    },
    {
      "cell_type": "markdown",
      "source": [
        "18. What is an API specification, and how does it help in building a Flask API?\n",
        "    - An API specification (like OpenAPI) defines how the API works and ensures consistent communication between developers, testers, and clients.\n",
        "\n",
        "19. What are HTTP status codes, and why are they important in a Flask API?\n",
        "     - They indicate the outcome of HTTP requests. Examples:\n",
        "\n",
        "200 OK – Success\n",
        "\n",
        "404 Not Found – Resource missing\n",
        "\n",
        "500 Internal Server Error – Server issue\n",
        "\n",
        "20. How do you handle POST requests in Flask?"
      ],
      "metadata": {
        "id": "-AKmMH6_pVAA"
      }
    },
    {
      "cell_type": "code",
      "source": [
        "from flask import request\n",
        "\n",
        "@app.route('/api/data', methods=['POST'])\n",
        "def create_data():\n",
        "    data = request.json\n",
        "    return {\"message\": \"Data received\", \"data\": data}\n"
      ],
      "metadata": {
        "id": "CntBbbFzpbHo"
      },
      "execution_count": 7,
      "outputs": []
    },
    {
      "cell_type": "markdown",
      "source": [
        "21. How would you secure a Flask API?\n",
        "    - Use HTTPS\n",
        "\n",
        "    - Implement authentication (e.g., JWT)\n",
        "\n",
        "    - Validate and sanitize input\n",
        "\n",
        "    - Handle CORS properly\n",
        "\n",
        "   - Use API rate limiting\n",
        "\n",
        "22. What is the significance of the Flask-RESTful extension?\n",
        "    - It simplifies building REST APIs by providing a Resource class and better routing structure for handling HTTP methods.\n",
        "\n",
        "23. What is the role of Flask's session object?\n",
        "    - It stores user-specific data across requests using secure cookies. Useful for login sessions and temporary data storage.\n",
        "\n"
      ],
      "metadata": {
        "id": "gr84sV6MpkDt"
      }
    },
    {
      "cell_type": "markdown",
      "source": [
        "# practical question and answers"
      ],
      "metadata": {
        "id": "Te7CQLrFp0sv"
      }
    },
    {
      "cell_type": "markdown",
      "source": [
        "1. How do you create a basic Flask application?"
      ],
      "metadata": {
        "id": "2gyWtwghqCPb"
      }
    },
    {
      "cell_type": "code",
      "source": [
        "from flask import Flask\n",
        "\n",
        "app = Flask(__name__)\n",
        "\n",
        "@app.route('/')\n",
        "def home():\n",
        "    return \"Hello, Flask!\"\n",
        "\n",
        "if __name__ == '__main__':\n",
        "    app.run(debug=True)\n"
      ],
      "metadata": {
        "id": "OBHb2LTSqGB6"
      },
      "execution_count": null,
      "outputs": []
    },
    {
      "cell_type": "markdown",
      "source": [
        "2. How do you serve static files like images or CSS in Flask?\n",
        "    - Place your files in a folder named static, and reference them in HTML using url_for():"
      ],
      "metadata": {
        "id": "AaViMdRQqtpd"
      }
    },
    {
      "cell_type": "code",
      "source": [
        "<link rel=\"stylesheet\" href=\"{{ url_for('static', filename='style.css') }}\">\n",
        "<img src=\"{{ url_for('static', filename='logo.png') }}\" alt=\"Logo\">\n"
      ],
      "metadata": {
        "id": "qX7ljcHTq1xc"
      },
      "execution_count": null,
      "outputs": []
    },
    {
      "cell_type": "markdown",
      "source": [
        "3. How do you define different routes with different HTTP methods in Flask?\n"
      ],
      "metadata": {
        "id": "0RNBagY0q3S8"
      }
    },
    {
      "cell_type": "code",
      "source": [
        "@app.route('/submit', methods=['GET', 'POST'])\n",
        "def submit():\n",
        "    if request.method == 'POST':\n",
        "        return \"Form Submitted\"\n",
        "    return \"Form Page\"\n"
      ],
      "metadata": {
        "id": "KU7Rbo00q9nF"
      },
      "execution_count": null,
      "outputs": []
    },
    {
      "cell_type": "markdown",
      "source": [
        "4. How do you render HTML templates in Flask?\n",
        "    - Place HTML files in a folder named templates, and use render_template():\n",
        "\n"
      ],
      "metadata": {
        "id": "lhLZMAkprH8k"
      }
    },
    {
      "cell_type": "code",
      "source": [
        "from flask import render_template\n",
        "\n",
        "@app.route('/')\n",
        "def home():\n",
        "    return render_template('index.html')\n"
      ],
      "metadata": {
        "id": "DmbvsmMGrNvq"
      },
      "execution_count": null,
      "outputs": []
    },
    {
      "cell_type": "markdown",
      "source": [
        "5. How can you generate URLs for routes in Flask using url_for?"
      ],
      "metadata": {
        "id": "PbDTBsW4rQLr"
      }
    },
    {
      "cell_type": "code",
      "source": [
        "@app.route('/dashboard')\n",
        "def dashboard():\n",
        "    return \"Dashboard\"\n",
        "\n",
        "# Usage in Python\n",
        "url_for('dashboard')\n",
        "\n",
        "# Usage in HTML (Jinja2)\n",
        "<a href=\"{{ url_for('dashboard') }}\">Go to Dashboard</a>\n"
      ],
      "metadata": {
        "id": "Y8ISYo4brUnR"
      },
      "execution_count": null,
      "outputs": []
    },
    {
      "cell_type": "markdown",
      "source": [
        "6. How do you handle forms in Flask?"
      ],
      "metadata": {
        "id": "uHuHBen7rPrk"
      }
    },
    {
      "cell_type": "code",
      "source": [
        "from flask import request\n",
        "\n",
        "@app.route('/login', methods=['GET', 'POST'])\n",
        "def login():\n",
        "    if request.method == 'POST':\n",
        "        username = request.form['username']\n",
        "        return f\"Hello, {username}\"\n",
        "    return render_template('login.html')\n"
      ],
      "metadata": {
        "id": "vlkdJrNWrZtr"
      },
      "execution_count": null,
      "outputs": []
    },
    {
      "cell_type": "markdown",
      "source": [
        "7. How can you validate form data in Flask?\n",
        "    - Use basic validation or libraries like WTForms:"
      ],
      "metadata": {
        "id": "7DpJvu9grPQV"
      }
    },
    {
      "cell_type": "code",
      "source": [
        "if not request.form['username']:\n",
        "    return \"Username is required\"\n"
      ],
      "metadata": {
        "id": "27ryOZrHrkN7"
      },
      "execution_count": null,
      "outputs": []
    },
    {
      "cell_type": "markdown",
      "source": [
        "Or with Flask-WTF:"
      ],
      "metadata": {
        "id": "pZiTJbOyrPIu"
      }
    },
    {
      "cell_type": "code",
      "source": [
        "from flask_wtf import FlaskForm\n",
        "from wtforms import StringField\n",
        "from wtforms.validators import DataRequired\n"
      ],
      "metadata": {
        "id": "rLpzCpXQrpC4"
      },
      "execution_count": null,
      "outputs": []
    },
    {
      "cell_type": "markdown",
      "source": [
        "8. How do you manage sessions in Flask?"
      ],
      "metadata": {
        "id": "lMybuxwDrrYw"
      }
    },
    {
      "cell_type": "code",
      "source": [
        "from flask import session\n",
        "\n",
        "app.secret_key = 'secret-key'\n",
        "\n",
        "@app.route('/set')\n",
        "def set_session():\n",
        "    session['user'] = 'Rishabh'\n",
        "    return \"Session set\"\n",
        "\n",
        "@app.route('/get')\n",
        "def get_session():\n",
        "    return f\"User: {session.get('user')}\"\n"
      ],
      "metadata": {
        "id": "8M05jYGFruUM"
      },
      "execution_count": null,
      "outputs": []
    },
    {
      "cell_type": "markdown",
      "source": [
        "9. How do you redirect to a different route in Flask?"
      ],
      "metadata": {
        "id": "x7Nh91obrwrx"
      }
    },
    {
      "cell_type": "code",
      "source": [
        "from flask import redirect, url_for\n",
        "\n",
        "@app.route('/old')\n",
        "def old():\n",
        "    return redirect(url_for('new'))\n",
        "\n",
        "@app.route('/new')\n",
        "def new():\n",
        "    return \"New Page\"\n"
      ],
      "metadata": {
        "id": "wIlH4xGbr0tm"
      },
      "execution_count": null,
      "outputs": []
    },
    {
      "cell_type": "markdown",
      "source": [
        "10. How do you handle errors in Flask (e.g., 404)?\n",
        "\n"
      ],
      "metadata": {
        "id": "cOffUD9mr21d"
      }
    },
    {
      "cell_type": "code",
      "source": [
        "@app.errorhandler(404)\n",
        "def page_not_found(e):\n",
        "    return render_template('404.html'), 404\n"
      ],
      "metadata": {
        "id": "MHg5BkBnr9DQ"
      },
      "execution_count": null,
      "outputs": []
    },
    {
      "cell_type": "markdown",
      "source": [
        "11. How do you structure a Flask app using Blueprints?"
      ],
      "metadata": {
        "id": "MhGgjzwnr-gH"
      }
    },
    {
      "cell_type": "code",
      "source": [
        "# In user_routes.py\n",
        "from flask import Blueprint\n",
        "user_bp = Blueprint('user', __name__)\n",
        "\n",
        "@user_bp.route('/profile')\n",
        "def profile():\n",
        "    return \"User Profile\"\n",
        "\n",
        "# In main app\n",
        "from user_routes import user_bp\n",
        "app.register_blueprint(user_bp, url_prefix='/user')\n"
      ],
      "metadata": {
        "id": "rTIaYr2AsBFz"
      },
      "execution_count": null,
      "outputs": []
    },
    {
      "cell_type": "markdown",
      "source": [
        "12. How do you define a custom Jinja filter in Flask?"
      ],
      "metadata": {
        "id": "3FciwQHosDNF"
      }
    },
    {
      "cell_type": "code",
      "source": [
        "@app.template_filter('reverse')\n",
        "def reverse_filter(s):\n",
        "    return s[::-1]\n",
        "\n",
        "# In template: {{ \"Hello\"|reverse }} → olleH\n"
      ],
      "metadata": {
        "id": "XlX5M8kpsGSt"
      },
      "execution_count": null,
      "outputs": []
    },
    {
      "cell_type": "markdown",
      "source": [
        "13. How can you redirect with query parameters in Flask?"
      ],
      "metadata": {
        "id": "s8PqsJfGsIUU"
      }
    },
    {
      "cell_type": "code",
      "source": [
        "return redirect(url_for('search', q='flask'))\n",
        "\n",
        "# Route\n",
        "@app.route('/search')\n",
        "def search():\n",
        "    query = request.args.get('q')\n",
        "    return f\"Search results for: {query}\"\n"
      ],
      "metadata": {
        "id": "xvBPjrQGsK7V"
      },
      "execution_count": null,
      "outputs": []
    },
    {
      "cell_type": "markdown",
      "source": [
        "14. How do you return JSON responses in Flask?"
      ],
      "metadata": {
        "id": "UgXs_8bosNVi"
      }
    },
    {
      "cell_type": "code",
      "source": [
        "from flask import jsonify\n",
        "\n",
        "@app.route('/api/data')\n",
        "def data():\n",
        "    return jsonify({'name': 'Rishabh', 'role': 'Developer'})\n"
      ],
      "metadata": {
        "id": "DOpb9WhusP67"
      },
      "execution_count": null,
      "outputs": []
    },
    {
      "cell_type": "markdown",
      "source": [
        "15. How do you capture URL parameters in Flask?"
      ],
      "metadata": {
        "id": "sxxIPjlGsSBF"
      }
    },
    {
      "cell_type": "code",
      "source": [
        "@app.route('/user/<username>')\n",
        "def user_profile(username):\n",
        "    return f\"User: {username}\"\n"
      ],
      "metadata": {
        "id": "QdCUn3KnsVFX"
      },
      "execution_count": null,
      "outputs": []
    }
  ]
}